It consists of basics of numpy array
